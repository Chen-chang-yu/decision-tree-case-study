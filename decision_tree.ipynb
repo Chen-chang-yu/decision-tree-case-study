{
 "cells": [
  {
   "cell_type": "code",
   "execution_count": 9,
   "id": "36a5fadd",
   "metadata": {},
   "outputs": [],
   "source": [
    "import pandas as pd\n",
    "import numpy as np"
   ]
  },
  {
   "cell_type": "code",
   "execution_count": 10,
   "id": "9629cfda",
   "metadata": {
    "scrolled": true
   },
   "outputs": [
    {
     "data": {
      "text/html": [
       "<div>\n",
       "<style scoped>\n",
       "    .dataframe tbody tr th:only-of-type {\n",
       "        vertical-align: middle;\n",
       "    }\n",
       "\n",
       "    .dataframe tbody tr th {\n",
       "        vertical-align: top;\n",
       "    }\n",
       "\n",
       "    .dataframe thead th {\n",
       "        text-align: right;\n",
       "    }\n",
       "</style>\n",
       "<table border=\"1\" class=\"dataframe\">\n",
       "  <thead>\n",
       "    <tr style=\"text-align: right;\">\n",
       "      <th></th>\n",
       "      <th>ID</th>\n",
       "      <th>GENDER</th>\n",
       "      <th>TYPE</th>\n",
       "      <th>AREA</th>\n",
       "      <th>result</th>\n",
       "    </tr>\n",
       "  </thead>\n",
       "  <tbody>\n",
       "    <tr>\n",
       "      <th>0</th>\n",
       "      <td>1</td>\n",
       "      <td>M</td>\n",
       "      <td>seden</td>\n",
       "      <td>A</td>\n",
       "      <td>N</td>\n",
       "    </tr>\n",
       "    <tr>\n",
       "      <th>1</th>\n",
       "      <td>2</td>\n",
       "      <td>M</td>\n",
       "      <td>Sport</td>\n",
       "      <td>B</td>\n",
       "      <td>N</td>\n",
       "    </tr>\n",
       "    <tr>\n",
       "      <th>2</th>\n",
       "      <td>3</td>\n",
       "      <td>M</td>\n",
       "      <td>Sport</td>\n",
       "      <td>B</td>\n",
       "      <td>N</td>\n",
       "    </tr>\n",
       "    <tr>\n",
       "      <th>3</th>\n",
       "      <td>4</td>\n",
       "      <td>M</td>\n",
       "      <td>Sport</td>\n",
       "      <td>C</td>\n",
       "      <td>N</td>\n",
       "    </tr>\n",
       "    <tr>\n",
       "      <th>4</th>\n",
       "      <td>5</td>\n",
       "      <td>M</td>\n",
       "      <td>Sport</td>\n",
       "      <td>D</td>\n",
       "      <td>N</td>\n",
       "    </tr>\n",
       "  </tbody>\n",
       "</table>\n",
       "</div>"
      ],
      "text/plain": [
       "   ID GENDER   TYPE AREA result\n",
       "0   1      M  seden    A      N\n",
       "1   2      M  Sport    B      N\n",
       "2   3      M  Sport    B      N\n",
       "3   4      M  Sport    C      N\n",
       "4   5      M  Sport    D      N"
      ]
     },
     "execution_count": 10,
     "metadata": {},
     "output_type": "execute_result"
    }
   ],
   "source": [
    "df = pd.read_excel('decision_tree_case.xlsx')\n",
    "df.head()"
   ]
  },
  {
   "cell_type": "code",
   "execution_count": 11,
   "id": "98bbfc7c",
   "metadata": {},
   "outputs": [
    {
     "data": {
      "text/html": [
       "<div>\n",
       "<style scoped>\n",
       "    .dataframe tbody tr th:only-of-type {\n",
       "        vertical-align: middle;\n",
       "    }\n",
       "\n",
       "    .dataframe tbody tr th {\n",
       "        vertical-align: top;\n",
       "    }\n",
       "\n",
       "    .dataframe thead th {\n",
       "        text-align: right;\n",
       "    }\n",
       "</style>\n",
       "<table border=\"1\" class=\"dataframe\">\n",
       "  <thead>\n",
       "    <tr style=\"text-align: right;\">\n",
       "      <th></th>\n",
       "      <th>GENDER</th>\n",
       "      <th>TYPE</th>\n",
       "      <th>AREA</th>\n",
       "      <th>result</th>\n",
       "    </tr>\n",
       "    <tr>\n",
       "      <th>ID</th>\n",
       "      <th></th>\n",
       "      <th></th>\n",
       "      <th></th>\n",
       "      <th></th>\n",
       "    </tr>\n",
       "  </thead>\n",
       "  <tbody>\n",
       "    <tr>\n",
       "      <th>1</th>\n",
       "      <td>M</td>\n",
       "      <td>seden</td>\n",
       "      <td>A</td>\n",
       "      <td>N</td>\n",
       "    </tr>\n",
       "    <tr>\n",
       "      <th>2</th>\n",
       "      <td>M</td>\n",
       "      <td>Sport</td>\n",
       "      <td>B</td>\n",
       "      <td>N</td>\n",
       "    </tr>\n",
       "    <tr>\n",
       "      <th>3</th>\n",
       "      <td>M</td>\n",
       "      <td>Sport</td>\n",
       "      <td>B</td>\n",
       "      <td>N</td>\n",
       "    </tr>\n",
       "    <tr>\n",
       "      <th>4</th>\n",
       "      <td>M</td>\n",
       "      <td>Sport</td>\n",
       "      <td>C</td>\n",
       "      <td>N</td>\n",
       "    </tr>\n",
       "    <tr>\n",
       "      <th>5</th>\n",
       "      <td>M</td>\n",
       "      <td>Sport</td>\n",
       "      <td>D</td>\n",
       "      <td>N</td>\n",
       "    </tr>\n",
       "  </tbody>\n",
       "</table>\n",
       "</div>"
      ],
      "text/plain": [
       "   GENDER   TYPE AREA result\n",
       "ID                          \n",
       "1       M  seden    A      N\n",
       "2       M  Sport    B      N\n",
       "3       M  Sport    B      N\n",
       "4       M  Sport    C      N\n",
       "5       M  Sport    D      N"
      ]
     },
     "execution_count": 11,
     "metadata": {},
     "output_type": "execute_result"
    }
   ],
   "source": [
    "df.set_index('ID', inplace = True)\n",
    "df.head()"
   ]
  },
  {
   "cell_type": "code",
   "execution_count": 12,
   "id": "ac7998d4",
   "metadata": {},
   "outputs": [
    {
     "data": {
      "text/html": [
       "<div>\n",
       "<style scoped>\n",
       "    .dataframe tbody tr th:only-of-type {\n",
       "        vertical-align: middle;\n",
       "    }\n",
       "\n",
       "    .dataframe tbody tr th {\n",
       "        vertical-align: top;\n",
       "    }\n",
       "\n",
       "    .dataframe thead th {\n",
       "        text-align: right;\n",
       "    }\n",
       "</style>\n",
       "<table border=\"1\" class=\"dataframe\">\n",
       "  <thead>\n",
       "    <tr style=\"text-align: right;\">\n",
       "      <th></th>\n",
       "      <th>GENDER</th>\n",
       "      <th>TYPE</th>\n",
       "      <th>AREA</th>\n",
       "      <th>result</th>\n",
       "      <th>buy</th>\n",
       "    </tr>\n",
       "    <tr>\n",
       "      <th>ID</th>\n",
       "      <th></th>\n",
       "      <th></th>\n",
       "      <th></th>\n",
       "      <th></th>\n",
       "      <th></th>\n",
       "    </tr>\n",
       "  </thead>\n",
       "  <tbody>\n",
       "    <tr>\n",
       "      <th>1</th>\n",
       "      <td>M</td>\n",
       "      <td>seden</td>\n",
       "      <td>A</td>\n",
       "      <td>N</td>\n",
       "      <td>0</td>\n",
       "    </tr>\n",
       "    <tr>\n",
       "      <th>2</th>\n",
       "      <td>M</td>\n",
       "      <td>Sport</td>\n",
       "      <td>B</td>\n",
       "      <td>N</td>\n",
       "      <td>0</td>\n",
       "    </tr>\n",
       "    <tr>\n",
       "      <th>3</th>\n",
       "      <td>M</td>\n",
       "      <td>Sport</td>\n",
       "      <td>B</td>\n",
       "      <td>N</td>\n",
       "      <td>0</td>\n",
       "    </tr>\n",
       "    <tr>\n",
       "      <th>4</th>\n",
       "      <td>M</td>\n",
       "      <td>Sport</td>\n",
       "      <td>C</td>\n",
       "      <td>N</td>\n",
       "      <td>0</td>\n",
       "    </tr>\n",
       "    <tr>\n",
       "      <th>5</th>\n",
       "      <td>M</td>\n",
       "      <td>Sport</td>\n",
       "      <td>D</td>\n",
       "      <td>N</td>\n",
       "      <td>0</td>\n",
       "    </tr>\n",
       "    <tr>\n",
       "      <th>6</th>\n",
       "      <td>M</td>\n",
       "      <td>Sport</td>\n",
       "      <td>D</td>\n",
       "      <td>N</td>\n",
       "      <td>0</td>\n",
       "    </tr>\n",
       "    <tr>\n",
       "      <th>7</th>\n",
       "      <td>F</td>\n",
       "      <td>Sport</td>\n",
       "      <td>A</td>\n",
       "      <td>N</td>\n",
       "      <td>0</td>\n",
       "    </tr>\n",
       "    <tr>\n",
       "      <th>8</th>\n",
       "      <td>F</td>\n",
       "      <td>Sport</td>\n",
       "      <td>A</td>\n",
       "      <td>N</td>\n",
       "      <td>0</td>\n",
       "    </tr>\n",
       "    <tr>\n",
       "      <th>9</th>\n",
       "      <td>F</td>\n",
       "      <td>Sport</td>\n",
       "      <td>B</td>\n",
       "      <td>N</td>\n",
       "      <td>0</td>\n",
       "    </tr>\n",
       "    <tr>\n",
       "      <th>10</th>\n",
       "      <td>F</td>\n",
       "      <td>luxury</td>\n",
       "      <td>C</td>\n",
       "      <td>Y</td>\n",
       "      <td>1</td>\n",
       "    </tr>\n",
       "    <tr>\n",
       "      <th>11</th>\n",
       "      <td>M</td>\n",
       "      <td>seden</td>\n",
       "      <td>C</td>\n",
       "      <td>Y</td>\n",
       "      <td>1</td>\n",
       "    </tr>\n",
       "    <tr>\n",
       "      <th>12</th>\n",
       "      <td>M</td>\n",
       "      <td>seden</td>\n",
       "      <td>D</td>\n",
       "      <td>Y</td>\n",
       "      <td>1</td>\n",
       "    </tr>\n",
       "    <tr>\n",
       "      <th>13</th>\n",
       "      <td>M</td>\n",
       "      <td>seden</td>\n",
       "      <td>B</td>\n",
       "      <td>Y</td>\n",
       "      <td>1</td>\n",
       "    </tr>\n",
       "    <tr>\n",
       "      <th>14</th>\n",
       "      <td>M</td>\n",
       "      <td>luxury</td>\n",
       "      <td>D</td>\n",
       "      <td>Y</td>\n",
       "      <td>1</td>\n",
       "    </tr>\n",
       "    <tr>\n",
       "      <th>15</th>\n",
       "      <td>F</td>\n",
       "      <td>luxury</td>\n",
       "      <td>A</td>\n",
       "      <td>Y</td>\n",
       "      <td>1</td>\n",
       "    </tr>\n",
       "    <tr>\n",
       "      <th>16</th>\n",
       "      <td>F</td>\n",
       "      <td>luxury</td>\n",
       "      <td>A</td>\n",
       "      <td>Y</td>\n",
       "      <td>1</td>\n",
       "    </tr>\n",
       "    <tr>\n",
       "      <th>17</th>\n",
       "      <td>F</td>\n",
       "      <td>luxury</td>\n",
       "      <td>B</td>\n",
       "      <td>Y</td>\n",
       "      <td>1</td>\n",
       "    </tr>\n",
       "    <tr>\n",
       "      <th>18</th>\n",
       "      <td>F</td>\n",
       "      <td>luxury</td>\n",
       "      <td>B</td>\n",
       "      <td>Y</td>\n",
       "      <td>1</td>\n",
       "    </tr>\n",
       "    <tr>\n",
       "      <th>19</th>\n",
       "      <td>F</td>\n",
       "      <td>luxury</td>\n",
       "      <td>B</td>\n",
       "      <td>Y</td>\n",
       "      <td>1</td>\n",
       "    </tr>\n",
       "    <tr>\n",
       "      <th>20</th>\n",
       "      <td>F</td>\n",
       "      <td>luxury</td>\n",
       "      <td>C</td>\n",
       "      <td>Y</td>\n",
       "      <td>1</td>\n",
       "    </tr>\n",
       "  </tbody>\n",
       "</table>\n",
       "</div>"
      ],
      "text/plain": [
       "   GENDER    TYPE AREA result  buy\n",
       "ID                                \n",
       "1       M   seden    A      N    0\n",
       "2       M   Sport    B      N    0\n",
       "3       M   Sport    B      N    0\n",
       "4       M   Sport    C      N    0\n",
       "5       M   Sport    D      N    0\n",
       "6       M   Sport    D      N    0\n",
       "7       F   Sport    A      N    0\n",
       "8       F   Sport    A      N    0\n",
       "9       F   Sport    B      N    0\n",
       "10      F  luxury    C      Y    1\n",
       "11      M   seden    C      Y    1\n",
       "12      M   seden    D      Y    1\n",
       "13      M   seden    B      Y    1\n",
       "14      M  luxury    D      Y    1\n",
       "15      F  luxury    A      Y    1\n",
       "16      F  luxury    A      Y    1\n",
       "17      F  luxury    B      Y    1\n",
       "18      F  luxury    B      Y    1\n",
       "19      F  luxury    B      Y    1\n",
       "20      F  luxury    C      Y    1"
      ]
     },
     "execution_count": 12,
     "metadata": {},
     "output_type": "execute_result"
    }
   ],
   "source": [
    "df['buy'] = df.result.map({'N': 0, 'Y':1})\n",
    "df"
   ]
  },
  {
   "cell_type": "code",
   "execution_count": 36,
   "id": "df04e640",
   "metadata": {},
   "outputs": [
    {
     "data": {
      "text/plain": [
       "4"
      ]
     },
     "execution_count": 36,
     "metadata": {},
     "output_type": "execute_result"
    }
   ],
   "source": [
    "#男性會買車的數量\n",
    "df[(df.GENDER == 'M')]['buy'].sum()"
   ]
  },
  {
   "cell_type": "code",
   "execution_count": 43,
   "id": "ed770975",
   "metadata": {},
   "outputs": [
    {
     "data": {
      "text/plain": [
       "10"
      ]
     },
     "execution_count": 43,
     "metadata": {},
     "output_type": "execute_result"
    }
   ],
   "source": [
    "#男性總人數\n",
    "df[(df.GENDER == 'M')].GENDER.count()"
   ]
  },
  {
   "cell_type": "code",
   "execution_count": 44,
   "id": "6c34586b",
   "metadata": {},
   "outputs": [
    {
     "data": {
      "text/plain": [
       "0.4"
      ]
     },
     "execution_count": 44,
     "metadata": {},
     "output_type": "execute_result"
    }
   ],
   "source": [
    "#男性會買車的比例\n",
    "P1 = df[(df.GENDER == 'M')]['buy'].sum()/df[(df.GENDER == 'M')].GENDER.count()\n",
    "P1"
   ]
  },
  {
   "cell_type": "code",
   "execution_count": 45,
   "id": "70ff2b7f",
   "metadata": {},
   "outputs": [
    {
     "data": {
      "text/plain": [
       "7"
      ]
     },
     "execution_count": 45,
     "metadata": {},
     "output_type": "execute_result"
    }
   ],
   "source": [
    "#女性會買車的數量\n",
    "df[(df.GENDER == 'F')]['buy'].sum()"
   ]
  },
  {
   "cell_type": "code",
   "execution_count": 46,
   "id": "d3230e67",
   "metadata": {},
   "outputs": [
    {
     "data": {
      "text/plain": [
       "10"
      ]
     },
     "execution_count": 46,
     "metadata": {},
     "output_type": "execute_result"
    }
   ],
   "source": [
    "#女性總人數\n",
    "df[(df.GENDER == 'F')].GENDER.count()"
   ]
  },
  {
   "cell_type": "code",
   "execution_count": 47,
   "id": "e5f783c7",
   "metadata": {},
   "outputs": [
    {
     "data": {
      "text/plain": [
       "0.7"
      ]
     },
     "execution_count": 47,
     "metadata": {},
     "output_type": "execute_result"
    }
   ],
   "source": [
    "#女性會買車的比例\n",
    "P2 = df[(df.GENDER == 'F')]['buy'].sum()/df[(df.GENDER == 'F')].GENDER.count()\n",
    "P2"
   ]
  },
  {
   "cell_type": "code",
   "execution_count": 58,
   "id": "787b31e4",
   "metadata": {},
   "outputs": [
    {
     "name": "stdout",
     "output_type": "stream",
     "text": [
      "Gain_GENDER: 0.07387925315731936\n"
     ]
    }
   ],
   "source": [
    "#以GENDER為分支, information gain as below:\n",
    "Info_M = -P1*np.log2(P1)-(1-P1)*np.log2(1-P1)\n",
    "# print(Info_M)\n",
    "Info_F = -P2*np.log2(P2)-(1-P2)*np.log2(1-P2)\n",
    "# print(Info_F)\n",
    "Gain_GENDER = 1 - (0.5*Info_M + 0.5*Info_F)\n",
    "print('Gain_GENDER:', Gain_GENDER)"
   ]
  },
  {
   "cell_type": "code",
   "execution_count": 63,
   "id": "e83594e5",
   "metadata": {},
   "outputs": [
    {
     "data": {
      "text/plain": [
       "3"
      ]
     },
     "execution_count": 63,
     "metadata": {},
     "output_type": "execute_result"
    }
   ],
   "source": [
    "#seden車款車主會買車的數量\n",
    "df[(df.TYPE == 'seden')]['buy'].sum()"
   ]
  },
  {
   "cell_type": "code",
   "execution_count": 64,
   "id": "2099a6ff",
   "metadata": {},
   "outputs": [
    {
     "data": {
      "text/plain": [
       "4"
      ]
     },
     "execution_count": 64,
     "metadata": {},
     "output_type": "execute_result"
    }
   ],
   "source": [
    "#seden車主總人數\n",
    "df[(df.TYPE == 'seden')].TYPE.count()"
   ]
  },
  {
   "cell_type": "code",
   "execution_count": 65,
   "id": "326d671a",
   "metadata": {},
   "outputs": [
    {
     "data": {
      "text/plain": [
       "0.75"
      ]
     },
     "execution_count": 65,
     "metadata": {},
     "output_type": "execute_result"
    }
   ],
   "source": [
    "#seden車主會買車的比例\n",
    "P3 = df[(df.TYPE == 'seden')]['buy'].sum()/df[(df.TYPE == 'seden')].TYPE.count()\n",
    "P3"
   ]
  },
  {
   "cell_type": "code",
   "execution_count": 66,
   "id": "ad451026",
   "metadata": {},
   "outputs": [
    {
     "data": {
      "text/plain": [
       "0"
      ]
     },
     "execution_count": 66,
     "metadata": {},
     "output_type": "execute_result"
    }
   ],
   "source": [
    "#Sport車款車主會買車的數量\n",
    "df[(df.TYPE == 'Sport')]['buy'].sum()"
   ]
  },
  {
   "cell_type": "code",
   "execution_count": 67,
   "id": "49c998b3",
   "metadata": {},
   "outputs": [
    {
     "data": {
      "text/plain": [
       "8"
      ]
     },
     "execution_count": 67,
     "metadata": {},
     "output_type": "execute_result"
    }
   ],
   "source": [
    "#Sport車主總人數\n",
    "df[(df.TYPE == 'Sport')].TYPE.count()"
   ]
  },
  {
   "cell_type": "code",
   "execution_count": 68,
   "id": "3fb62c32",
   "metadata": {},
   "outputs": [
    {
     "data": {
      "text/plain": [
       "0.0"
      ]
     },
     "execution_count": 68,
     "metadata": {},
     "output_type": "execute_result"
    }
   ],
   "source": [
    "#Sport車主會買車的比例\n",
    "P4 = df[(df.TYPE == 'Sport')]['buy'].sum()/df[(df.TYPE == 'Sport')].TYPE.count()\n",
    "P4"
   ]
  },
  {
   "cell_type": "code",
   "execution_count": 69,
   "id": "2076bc23",
   "metadata": {},
   "outputs": [
    {
     "data": {
      "text/plain": [
       "8"
      ]
     },
     "execution_count": 69,
     "metadata": {},
     "output_type": "execute_result"
    }
   ],
   "source": [
    "#luxury車款車主會買車的數量\n",
    "df[(df.TYPE == 'luxury')]['buy'].sum()"
   ]
  },
  {
   "cell_type": "code",
   "execution_count": 70,
   "id": "cb4b5ac9",
   "metadata": {},
   "outputs": [
    {
     "data": {
      "text/plain": [
       "8"
      ]
     },
     "execution_count": 70,
     "metadata": {},
     "output_type": "execute_result"
    }
   ],
   "source": [
    "#luxury車主總人數\n",
    "df[(df.TYPE == 'luxury')].TYPE.count()"
   ]
  },
  {
   "cell_type": "code",
   "execution_count": 71,
   "id": "373ad28d",
   "metadata": {},
   "outputs": [
    {
     "data": {
      "text/plain": [
       "1.0"
      ]
     },
     "execution_count": 71,
     "metadata": {},
     "output_type": "execute_result"
    }
   ],
   "source": [
    "#luxury車主會買車的比例\n",
    "P5 = df[(df.TYPE == 'luxury')]['buy'].sum()/df[(df.TYPE == 'luxury')].TYPE.count()\n",
    "P5"
   ]
  },
  {
   "cell_type": "code",
   "execution_count": 77,
   "id": "0a407934",
   "metadata": {},
   "outputs": [
    {
     "name": "stdout",
     "output_type": "stream",
     "text": [
      "Gain_TYPE: 0.8377443751081735\n"
     ]
    },
    {
     "name": "stderr",
     "output_type": "stream",
     "text": [
      "C:\\Users\\USER\\AppData\\Local\\Temp\\ipykernel_8560\\3623322938.py:4: RuntimeWarning: divide by zero encountered in log2\n",
      "  Info_Sport = -P4*(np.where(P4<=0, 1, np.log2(P4)))-(1-P4)*(np.where((1-P4)<=0, 1, np.log2(1-P4)))\n",
      "C:\\Users\\USER\\AppData\\Local\\Temp\\ipykernel_8560\\3623322938.py:6: RuntimeWarning: divide by zero encountered in log2\n",
      "  Info_luxury = -P5*(np.where(P5<=0, 1, np.log2(P5)))-(1-P5)*(np.where((1-P5)<=0, 1, np.log2(1-P5)))\n"
     ]
    }
   ],
   "source": [
    "#以TYPE為分支, information gain as below:\n",
    "Info_seden = -P3*np.log2(P3)-(1-P3)*np.log2(1-P3)\n",
    "# print(Info_seden)\n",
    "Info_Sport = -P4*(np.where(P4<=0, 1, np.log2(P4)))-(1-P4)*(np.where((1-P4)<=0, 1, np.log2(1-P4)))\n",
    "# print(Info_Sport)\n",
    "Info_luxury = -P5*(np.where(P5<=0, 1, np.log2(P5)))-(1-P5)*(np.where((1-P5)<=0, 1, np.log2(1-P5)))\n",
    "# print(Info_luxury)\n",
    "Gain_TYPE = 1 - (0.2*Info_seden + 0.4*Info_Sport + 0.4*Info_luxury)\n",
    "print('Gain_TYPE:', Gain_TYPE)"
   ]
  },
  {
   "cell_type": "code",
   "execution_count": 78,
   "id": "f4cfb47c",
   "metadata": {},
   "outputs": [
    {
     "data": {
      "text/plain": [
       "0.4"
      ]
     },
     "execution_count": 78,
     "metadata": {},
     "output_type": "execute_result"
    }
   ],
   "source": [
    "#A區車主會買車的比例\n",
    "P6 = df[(df.AREA == 'A')]['buy'].sum()/df[(df.AREA == 'A')].AREA.count()\n",
    "P6"
   ]
  },
  {
   "cell_type": "code",
   "execution_count": 79,
   "id": "36eadd15",
   "metadata": {},
   "outputs": [
    {
     "data": {
      "text/plain": [
       "0.5714285714285714"
      ]
     },
     "execution_count": 79,
     "metadata": {},
     "output_type": "execute_result"
    }
   ],
   "source": [
    "#B區車主會買車的比例\n",
    "P7 = df[(df.AREA == 'B')]['buy'].sum()/df[(df.AREA == 'B')].AREA.count()\n",
    "P7"
   ]
  },
  {
   "cell_type": "code",
   "execution_count": 80,
   "id": "bcf53784",
   "metadata": {},
   "outputs": [
    {
     "data": {
      "text/plain": [
       "0.75"
      ]
     },
     "execution_count": 80,
     "metadata": {},
     "output_type": "execute_result"
    }
   ],
   "source": [
    "#C區車主會買車的比例\n",
    "P8 = df[(df.AREA == 'C')]['buy'].sum()/df[(df.AREA == 'C')].AREA.count()\n",
    "P8"
   ]
  },
  {
   "cell_type": "code",
   "execution_count": 81,
   "id": "86fe59e9",
   "metadata": {},
   "outputs": [
    {
     "data": {
      "text/plain": [
       "0.5"
      ]
     },
     "execution_count": 81,
     "metadata": {},
     "output_type": "execute_result"
    }
   ],
   "source": [
    "#D區車主會買車的比例\n",
    "P9 = df[(df.AREA == 'D')]['buy'].sum()/df[(df.AREA == 'D')].AREA.count()\n",
    "P9"
   ]
  },
  {
   "cell_type": "code",
   "execution_count": 82,
   "id": "d26daa80",
   "metadata": {},
   "outputs": [],
   "source": [
    "#以AREA為分支, information gain as below:\n",
    "Info_A = -P6*np.log2(P6)-(1-P6)*np.log2(1-P6)\n",
    "# print(Info_seden)\n",
    "Info_B = -P7*(np.where(P7<=0, 1, np.log2(P7)))-(1-P7)*(np.where((1-P7)<=0, 1, np.log2(1-P7)))\n",
    "# print(Info_Sport)\n",
    "Info_C = -P8*(np.where(P8<=0, 1, np.log2(P8)))-(1-P8)*(np.where((1-P8)<=0, 1, np.log2(1-P8)))\n",
    "# print(Info_luxury)\n",
    "Info_D = -P9*(np.where(P9<=0, 1, np.log2(P9)))-(1-P9)*(np.where((1-P9)<=0, 1, np.log2(1-P9)))"
   ]
  },
  {
   "cell_type": "code",
   "execution_count": 83,
   "id": "405e297b",
   "metadata": {},
   "outputs": [
    {
     "name": "stdout",
     "output_type": "stream",
     "text": [
      "Gain_AREA: 0.050176878882518317\n"
     ]
    }
   ],
   "source": [
    "Gain_AREA = 1 - (0.25*Info_A + 7/20*Info_B + 0.2*Info_C +  0.2*Info_D)\n",
    "print('Gain_AREA:', Gain_AREA)"
   ]
  },
  {
   "cell_type": "code",
   "execution_count": 84,
   "id": "7c43a145",
   "metadata": {},
   "outputs": [
    {
     "data": {
      "text/plain": [
       "0.320600169049337"
      ]
     },
     "execution_count": 84,
     "metadata": {},
     "output_type": "execute_result"
    }
   ],
   "source": [
    "# AVERAGE informaiton_GAIN \n",
    "np.average([Gain_AREA, Gain_TYPE, Gain_GENDER])"
   ]
  },
  {
   "cell_type": "code",
   "execution_count": null,
   "id": "00a4de08",
   "metadata": {},
   "outputs": [],
   "source": [
    "# 結論:\n",
    "1. 以 TYPE 的 information gain 最大, 故應以TYPE作為分枝變數"
   ]
  }
 ],
 "metadata": {
  "kernelspec": {
   "display_name": "Python 3 (ipykernel)",
   "language": "python",
   "name": "python3"
  },
  "language_info": {
   "codemirror_mode": {
    "name": "ipython",
    "version": 3
   },
   "file_extension": ".py",
   "mimetype": "text/x-python",
   "name": "python",
   "nbconvert_exporter": "python",
   "pygments_lexer": "ipython3",
   "version": "3.8.13"
  }
 },
 "nbformat": 4,
 "nbformat_minor": 5
}
